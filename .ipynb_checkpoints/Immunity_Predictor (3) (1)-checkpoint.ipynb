{
 "cells": [
  {
   "cell_type": "code",
   "execution_count": 1,
   "id": "16e09640",
   "metadata": {},
   "outputs": [],
   "source": [
    "import numpy as np\n",
    "import pandas as pd \n",
    "import warnings\n",
    "with warnings.catch_warnings():\n",
    "    warnings.simplefilter(\"ignore\")\n"
   ]
  },
  {
   "cell_type": "code",
   "execution_count": 2,
   "id": "906499ae",
   "metadata": {},
   "outputs": [
    {
     "data": {
      "text/html": [
       "<div>\n",
       "<style scoped>\n",
       "    .dataframe tbody tr th:only-of-type {\n",
       "        vertical-align: middle;\n",
       "    }\n",
       "\n",
       "    .dataframe tbody tr th {\n",
       "        vertical-align: top;\n",
       "    }\n",
       "\n",
       "    .dataframe thead th {\n",
       "        text-align: right;\n",
       "    }\n",
       "</style>\n",
       "<table border=\"1\" class=\"dataframe\">\n",
       "  <thead>\n",
       "    <tr style=\"text-align: right;\">\n",
       "      <th></th>\n",
       "      <th>Protein Score</th>\n",
       "      <th>Age</th>\n",
       "      <th>BMI</th>\n",
       "      <th>Diabetes</th>\n",
       "      <th>Sleep Hours</th>\n",
       "      <th>Immunity_Score</th>\n",
       "    </tr>\n",
       "  </thead>\n",
       "  <tbody>\n",
       "    <tr>\n",
       "      <th>0</th>\n",
       "      <td>72</td>\n",
       "      <td>50</td>\n",
       "      <td>24.746326</td>\n",
       "      <td>119</td>\n",
       "      <td>7.302998</td>\n",
       "      <td>34</td>\n",
       "    </tr>\n",
       "    <tr>\n",
       "      <th>1</th>\n",
       "      <td>42</td>\n",
       "      <td>41</td>\n",
       "      <td>24.261654</td>\n",
       "      <td>138</td>\n",
       "      <td>6.702963</td>\n",
       "      <td>26</td>\n",
       "    </tr>\n",
       "    <tr>\n",
       "      <th>2</th>\n",
       "      <td>64</td>\n",
       "      <td>48</td>\n",
       "      <td>22.396232</td>\n",
       "      <td>152</td>\n",
       "      <td>6.881304</td>\n",
       "      <td>37</td>\n",
       "    </tr>\n",
       "    <tr>\n",
       "      <th>3</th>\n",
       "      <td>31</td>\n",
       "      <td>64</td>\n",
       "      <td>27.526473</td>\n",
       "      <td>308</td>\n",
       "      <td>7.229609</td>\n",
       "      <td>22</td>\n",
       "    </tr>\n",
       "    <tr>\n",
       "      <th>4</th>\n",
       "      <td>40</td>\n",
       "      <td>33</td>\n",
       "      <td>25.971828</td>\n",
       "      <td>253</td>\n",
       "      <td>7.030298</td>\n",
       "      <td>21</td>\n",
       "    </tr>\n",
       "  </tbody>\n",
       "</table>\n",
       "</div>"
      ],
      "text/plain": [
       "   Protein Score  Age        BMI  Diabetes  Sleep Hours  Immunity_Score\n",
       "0             72   50  24.746326       119     7.302998              34\n",
       "1             42   41  24.261654       138     6.702963              26\n",
       "2             64   48  22.396232       152     6.881304              37\n",
       "3             31   64  27.526473       308     7.229609              22\n",
       "4             40   33  25.971828       253     7.030298              21"
      ]
     },
     "execution_count": 2,
     "metadata": {},
     "output_type": "execute_result"
    }
   ],
   "source": [
    "df = pd.read_csv(r\"C:\\Users\\Ashutosh\\ImmunoSense - Copy\\Updated_Immunity_Data_Modified_v2.csv\")\n",
    "df.head()"
   ]
  },
  {
   "cell_type": "code",
   "execution_count": 3,
   "id": "fc7b6071",
   "metadata": {},
   "outputs": [
    {
     "data": {
      "text/plain": [
       "(5000, 6)"
      ]
     },
     "execution_count": 3,
     "metadata": {},
     "output_type": "execute_result"
    }
   ],
   "source": [
    "df.shape"
   ]
  },
  {
   "cell_type": "code",
   "execution_count": 4,
   "id": "3104b6d9",
   "metadata": {},
   "outputs": [],
   "source": [
    "df.columns = df.columns.str.replace(' ', '_')"
   ]
  },
  {
   "cell_type": "code",
   "execution_count": 5,
   "id": "73c8c40e",
   "metadata": {},
   "outputs": [
    {
     "name": "stdout",
     "output_type": "stream",
     "text": [
      "Missing values in each column:\n",
      " Protein_Score     0\n",
      "Age               0\n",
      "BMI               0\n",
      "Diabetes          0\n",
      "Sleep_Hours       0\n",
      "Immunity_Score    0\n",
      "dtype: int64\n"
     ]
    }
   ],
   "source": [
    "# Check for missing values in the dataframe\n",
    "missing_values = df.isnull().sum()\n",
    "print(\"Missing values in each column:\\n\", missing_values)\n"
   ]
  },
  {
   "cell_type": "code",
   "execution_count": 6,
   "id": "2a73d36f",
   "metadata": {},
   "outputs": [
    {
     "data": {
      "text/html": [
       "<div>\n",
       "<style scoped>\n",
       "    .dataframe tbody tr th:only-of-type {\n",
       "        vertical-align: middle;\n",
       "    }\n",
       "\n",
       "    .dataframe tbody tr th {\n",
       "        vertical-align: top;\n",
       "    }\n",
       "\n",
       "    .dataframe thead th {\n",
       "        text-align: right;\n",
       "    }\n",
       "</style>\n",
       "<table border=\"1\" class=\"dataframe\">\n",
       "  <thead>\n",
       "    <tr style=\"text-align: right;\">\n",
       "      <th></th>\n",
       "      <th>Protein_Score</th>\n",
       "      <th>Age</th>\n",
       "      <th>BMI</th>\n",
       "      <th>Diabetes</th>\n",
       "      <th>Sleep_Hours</th>\n",
       "      <th>Immunity_Score</th>\n",
       "    </tr>\n",
       "  </thead>\n",
       "  <tbody>\n",
       "    <tr>\n",
       "      <th>4995</th>\n",
       "      <td>48</td>\n",
       "      <td>36</td>\n",
       "      <td>28.045513</td>\n",
       "      <td>247</td>\n",
       "      <td>6.860236</td>\n",
       "      <td>29</td>\n",
       "    </tr>\n",
       "    <tr>\n",
       "      <th>4996</th>\n",
       "      <td>42</td>\n",
       "      <td>51</td>\n",
       "      <td>22.415800</td>\n",
       "      <td>374</td>\n",
       "      <td>7.299663</td>\n",
       "      <td>22</td>\n",
       "    </tr>\n",
       "    <tr>\n",
       "      <th>4997</th>\n",
       "      <td>85</td>\n",
       "      <td>15</td>\n",
       "      <td>20.909751</td>\n",
       "      <td>166</td>\n",
       "      <td>7.515601</td>\n",
       "      <td>24</td>\n",
       "    </tr>\n",
       "    <tr>\n",
       "      <th>4998</th>\n",
       "      <td>65</td>\n",
       "      <td>21</td>\n",
       "      <td>28.427243</td>\n",
       "      <td>333</td>\n",
       "      <td>7.201014</td>\n",
       "      <td>78</td>\n",
       "    </tr>\n",
       "    <tr>\n",
       "      <th>4999</th>\n",
       "      <td>111</td>\n",
       "      <td>65</td>\n",
       "      <td>23.287840</td>\n",
       "      <td>281</td>\n",
       "      <td>7.547022</td>\n",
       "      <td>29</td>\n",
       "    </tr>\n",
       "  </tbody>\n",
       "</table>\n",
       "</div>"
      ],
      "text/plain": [
       "      Protein_Score  Age        BMI  Diabetes  Sleep_Hours  Immunity_Score\n",
       "4995             48   36  28.045513       247     6.860236              29\n",
       "4996             42   51  22.415800       374     7.299663              22\n",
       "4997             85   15  20.909751       166     7.515601              24\n",
       "4998             65   21  28.427243       333     7.201014              78\n",
       "4999            111   65  23.287840       281     7.547022              29"
      ]
     },
     "execution_count": 6,
     "metadata": {},
     "output_type": "execute_result"
    }
   ],
   "source": [
    "\n",
    "df.tail()"
   ]
  },
  {
   "cell_type": "code",
   "execution_count": 7,
   "id": "097c66fa",
   "metadata": {},
   "outputs": [
    {
     "data": {
      "text/plain": [
       "(5000, 6)"
      ]
     },
     "execution_count": 7,
     "metadata": {},
     "output_type": "execute_result"
    }
   ],
   "source": [
    "\n",
    "df.shape"
   ]
  },
  {
   "cell_type": "code",
   "execution_count": 8,
   "id": "08e18aea",
   "metadata": {},
   "outputs": [
    {
     "data": {
      "image/png": "[encoded data removed]",
      "text/plain": [
       "<Figure size 1000x600 with 1 Axes>"
      ]
     },
     "metadata": {},
     "output_type": "display_data"
    }
   ],
   "source": [
    "from scipy import stats\n",
    "import matplotlib.pyplot as plt\n",
    "import seaborn as sns\n",
    "\n",
    "# Calculate Z-scores\n",
    "z_scores = stats.zscore(df['Immunity_Score'])\n",
    "\n",
    "# Set a threshold for Z-score\n",
    "threshold = 3\n",
    "\n",
    "# Filter out the outliers based on Z-score\n",
    "df_cleanedz = df[(z_scores < threshold) & (z_scores > -threshold)]\n",
    "\n",
    "# Plotting the box plot after Z-score filtering\n",
    "plt.figure(figsize=(10, 6))\n",
    "sns.boxplot(x=df_cleanedz['Immunity_Score'])\n",
    "plt.title('Box plot of Immunity Score (After Z-Score Filtering)')\n",
    "plt.xlabel('Immunity Score')\n",
    "plt.show()\n"
   ]
  },
  {
   "cell_type": "code",
   "execution_count": 9,
   "id": "50880d6b",
   "metadata": {},
   "outputs": [
    {
     "data": {
      "image/png": "[encoded data removed]",
      "text/plain": [
       "<Figure size 1000x600 with 1 Axes>"
      ]
     },
     "metadata": {},
     "output_type": "display_data"
    }
   ],
   "source": [
    "from scipy import stats\n",
    "import matplotlib.pyplot as plt\n",
    "import seaborn as sns\n",
    "\n",
    "# Calculate Z-scores\n",
    "z_scores = stats.zscore(df['Immunity_Score'])\n",
    "\n",
    "# Set a threshold for Z-score (e.g., 2.5 for a stricter filter)\n",
    "threshold = 1.75\n",
    "\n",
    "# Filter out the outliers based on Z-score\n",
    "df_cleanedz = df[(z_scores < threshold) & (z_scores > -threshold)]\n",
    "\n",
    "# Plotting the box plot after Z-score filtering\n",
    "plt.figure(figsize=(10, 6))\n",
    "sns.boxplot(x=df_cleanedz['Immunity_Score'])\n",
    "plt.title('Box plot of Immunity Score (After Stricter Z-Score Filtering)')\n",
    "plt.xlabel('Immunity Score')\n",
    "plt.show()\n"
   ]
  },
  {
   "cell_type": "code",
   "execution_count": 10,
   "id": "babaaefa",
   "metadata": {},
   "outputs": [
    {
     "data": {
      "text/plain": [
       "(4485, 6)"
      ]
     },
     "execution_count": 10,
     "metadata": {},
     "output_type": "execute_result"
    }
   ],
   "source": [
    "df_cleanedz.shape"
   ]
  },
  {
   "cell_type": "code",
   "execution_count": 11,
   "id": "3ecc7e62",
   "metadata": {},
   "outputs": [
    {
     "data": {
      "text/html": [
       "<div>\n",
       "<style scoped>\n",
       "    .dataframe tbody tr th:only-of-type {\n",
       "        vertical-align: middle;\n",
       "    }\n",
       "\n",
       "    .dataframe tbody tr th {\n",
       "        vertical-align: top;\n",
       "    }\n",
       "\n",
       "    .dataframe thead th {\n",
       "        text-align: right;\n",
       "    }\n",
       "</style>\n",
       "<table border=\"1\" class=\"dataframe\">\n",
       "  <thead>\n",
       "    <tr style=\"text-align: right;\">\n",
       "      <th></th>\n",
       "      <th>Protein_Score</th>\n",
       "      <th>Age</th>\n",
       "      <th>BMI</th>\n",
       "      <th>Diabetes</th>\n",
       "      <th>Sleep_Hours</th>\n",
       "      <th>Immunity_Score</th>\n",
       "    </tr>\n",
       "  </thead>\n",
       "  <tbody>\n",
       "    <tr>\n",
       "      <th>4994</th>\n",
       "      <td>93</td>\n",
       "      <td>40</td>\n",
       "      <td>29.323838</td>\n",
       "      <td>247</td>\n",
       "      <td>6.553266</td>\n",
       "      <td>27</td>\n",
       "    </tr>\n",
       "    <tr>\n",
       "      <th>4995</th>\n",
       "      <td>48</td>\n",
       "      <td>36</td>\n",
       "      <td>28.045513</td>\n",
       "      <td>247</td>\n",
       "      <td>6.860236</td>\n",
       "      <td>29</td>\n",
       "    </tr>\n",
       "    <tr>\n",
       "      <th>4996</th>\n",
       "      <td>42</td>\n",
       "      <td>51</td>\n",
       "      <td>22.415800</td>\n",
       "      <td>374</td>\n",
       "      <td>7.299663</td>\n",
       "      <td>22</td>\n",
       "    </tr>\n",
       "    <tr>\n",
       "      <th>4997</th>\n",
       "      <td>85</td>\n",
       "      <td>15</td>\n",
       "      <td>20.909751</td>\n",
       "      <td>166</td>\n",
       "      <td>7.515601</td>\n",
       "      <td>24</td>\n",
       "    </tr>\n",
       "    <tr>\n",
       "      <th>4999</th>\n",
       "      <td>111</td>\n",
       "      <td>65</td>\n",
       "      <td>23.287840</td>\n",
       "      <td>281</td>\n",
       "      <td>7.547022</td>\n",
       "      <td>29</td>\n",
       "    </tr>\n",
       "  </tbody>\n",
       "</table>\n",
       "</div>"
      ],
      "text/plain": [
       "      Protein_Score  Age        BMI  Diabetes  Sleep_Hours  Immunity_Score\n",
       "4994             93   40  29.323838       247     6.553266              27\n",
       "4995             48   36  28.045513       247     6.860236              29\n",
       "4996             42   51  22.415800       374     7.299663              22\n",
       "4997             85   15  20.909751       166     7.515601              24\n",
       "4999            111   65  23.287840       281     7.547022              29"
      ]
     },
     "execution_count": 11,
     "metadata": {},
     "output_type": "execute_result"
    }
   ],
   "source": [
    "df_cleanedz.tail()"
   ]
  },
  {
   "cell_type": "code",
   "execution_count": 12,
   "id": "ef8426fb",
   "metadata": {},
   "outputs": [
    {
     "data": {
      "text/html": [
       "<div>\n",
       "<style scoped>\n",
       "    .dataframe tbody tr th:only-of-type {\n",
       "        vertical-align: middle;\n",
       "    }\n",
       "\n",
       "    .dataframe tbody tr th {\n",
       "        vertical-align: top;\n",
       "    }\n",
       "\n",
       "    .dataframe thead th {\n",
       "        text-align: right;\n",
       "    }\n",
       "</style>\n",
       "<table border=\"1\" class=\"dataframe\">\n",
       "  <thead>\n",
       "    <tr style=\"text-align: right;\">\n",
       "      <th></th>\n",
       "      <th>Protein_Score</th>\n",
       "      <th>Age</th>\n",
       "      <th>BMI</th>\n",
       "      <th>Diabetes</th>\n",
       "      <th>Sleep_Hours</th>\n",
       "      <th>Immunity_Score</th>\n",
       "    </tr>\n",
       "  </thead>\n",
       "  <tbody>\n",
       "    <tr>\n",
       "      <th>0</th>\n",
       "      <td>72</td>\n",
       "      <td>50</td>\n",
       "      <td>24.746326</td>\n",
       "      <td>119</td>\n",
       "      <td>7.302998</td>\n",
       "      <td>34</td>\n",
       "    </tr>\n",
       "    <tr>\n",
       "      <th>1</th>\n",
       "      <td>42</td>\n",
       "      <td>41</td>\n",
       "      <td>24.261654</td>\n",
       "      <td>138</td>\n",
       "      <td>6.702963</td>\n",
       "      <td>26</td>\n",
       "    </tr>\n",
       "    <tr>\n",
       "      <th>2</th>\n",
       "      <td>64</td>\n",
       "      <td>48</td>\n",
       "      <td>22.396232</td>\n",
       "      <td>152</td>\n",
       "      <td>6.881304</td>\n",
       "      <td>37</td>\n",
       "    </tr>\n",
       "    <tr>\n",
       "      <th>3</th>\n",
       "      <td>31</td>\n",
       "      <td>64</td>\n",
       "      <td>27.526473</td>\n",
       "      <td>308</td>\n",
       "      <td>7.229609</td>\n",
       "      <td>22</td>\n",
       "    </tr>\n",
       "    <tr>\n",
       "      <th>4</th>\n",
       "      <td>40</td>\n",
       "      <td>33</td>\n",
       "      <td>25.971828</td>\n",
       "      <td>253</td>\n",
       "      <td>7.030298</td>\n",
       "      <td>21</td>\n",
       "    </tr>\n",
       "  </tbody>\n",
       "</table>\n",
       "</div>"
      ],
      "text/plain": [
       "   Protein_Score  Age        BMI  Diabetes  Sleep_Hours  Immunity_Score\n",
       "0             72   50  24.746326       119     7.302998              34\n",
       "1             42   41  24.261654       138     6.702963              26\n",
       "2             64   48  22.396232       152     6.881304              37\n",
       "3             31   64  27.526473       308     7.229609              22\n",
       "4             40   33  25.971828       253     7.030298              21"
      ]
     },
     "execution_count": 12,
     "metadata": {},
     "output_type": "execute_result"
    }
   ],
   "source": [
    "df_cleanedz.head()"
   ]
  },
  {
   "cell_type": "markdown",
   "id": "689be2ac",
   "metadata": {},
   "source": [
    "# DecisionTreeRegressor"
   ]
  },
  {
   "cell_type": "code",
   "execution_count": 13,
   "id": "ebf92d8e",
   "metadata": {},
   "outputs": [
    {
     "name": "stdout",
     "output_type": "stream",
     "text": [
      "Best Parameters: {'regressor__max_depth': 10, 'regressor__max_features': 'sqrt', 'regressor__min_samples_leaf': 4, 'regressor__min_samples_split': 10}\n",
      "Mean Absolute Error (MAE): 6.358533700763363\n",
      "Mean Squared Error (MSE): 61.98161796052452\n",
      "Root Mean Squared Error (RMSE): 7.8728405268063515\n",
      "R^2 Score: 0.6372370305327625\n"
     ]
    },
    {
     "name": "stderr",
     "output_type": "stream",
     "text": [
      "C:\\Users\\Ashutosh\\AppData\\Local\\Packages\\PythonSoftwareFoundation.Python.3.12_qbz5n2kfra8p0\\LocalCache\\local-packages\\Python312\\site-packages\\sklearn\\metrics\\_regression.py:483: FutureWarning: 'squared' is deprecated in version 1.4 and will be removed in 1.6. To calculate the root mean squared error, use the function'root_mean_squared_error'.\n",
      "  warnings.warn(\n"
     ]
    }
   ],
   "source": [
    "from sklearn.model_selection import GridSearchCV\n",
    "from sklearn.preprocessing import StandardScaler\n",
    "from sklearn.pipeline import Pipeline\n",
    "from sklearn.tree import DecisionTreeRegressor\n",
    "from sklearn.metrics import mean_absolute_error, mean_squared_error, r2_score\n",
    "from sklearn.model_selection import train_test_split\n",
    "\n",
    "# Assuming df is already defined and contains the data\n",
    "X = df_cleanedz.drop(['Immunity_Score'], axis=1)\n",
    "y = df_cleanedz['Immunity_Score']\n",
    "\n",
    "# Train-test split\n",
    "X_train, X_test, y_train, y_test = train_test_split(X, y, test_size=0.2, random_state=42)\n",
    "\n",
    "# Create a pipeline with StandardScaler and DecisionTreeRegressor\n",
    "pipeline = Pipeline([\n",
    "    ('scaler', StandardScaler()),\n",
    "    ('regressor', DecisionTreeRegressor(random_state=42))\n",
    "])\n",
    "\n",
    "# Define parameter grid for GridSearchCV\n",
    "param_grid = {\n",
    "    'regressor__max_depth': [None, 10, 20, 30, 40, 50],\n",
    "    'regressor__min_samples_split': [2, 5, 10],\n",
    "    'regressor__min_samples_leaf': [1, 2, 4],\n",
    "    'regressor__max_features': ['sqrt', 'log2', None]\n",
    "}\n",
    "\n",
    "# Initialize GridSearchCV\n",
    "grid_search = GridSearchCV(pipeline, param_grid, cv=5, scoring='neg_mean_squared_error', n_jobs=-1)\n",
    "\n",
    "# Fit the model\n",
    "grid_search.fit(X_train, y_train)\n",
    "\n",
    "# Best parameters\n",
    "best_params = grid_search.best_params_\n",
    "\n",
    "# Predict on test set\n",
    "y_pred = grid_search.best_estimator_.predict(X_test)\n",
    "\n",
    "# Calculate metrics\n",
    "mae = mean_absolute_error(y_test, y_pred)\n",
    "mse = mean_squared_error(y_test, y_pred)\n",
    "rmse = mean_squared_error(y_test, y_pred, squared=False)\n",
    "r2 = r2_score(y_test, y_pred)\n",
    "\n",
    "print(\"Best Parameters:\", best_params)\n",
    "print(\"Mean Absolute Error (MAE):\", mae)\n",
    "print(\"Mean Squared Error (MSE):\", mse)\n",
    "print(\"Root Mean Squared Error (RMSE):\", rmse)\n",
    "print(\"R^2 Score:\", r2)\n"
   ]
  },
  {
   "cell_type": "markdown",
   "id": "65e1de7e",
   "metadata": {},
   "source": [
    "# Random Forest Regressor"
   ]
  },
  {
   "cell_type": "code",
   "execution_count": 14,
   "id": "f7af25f6",
   "metadata": {},
   "outputs": [
    {
     "name": "stdout",
     "output_type": "stream",
     "text": [
      "Fitting 3 folds for each of 30 candidates, totalling 90 fits\n",
      "Best Parameters: {'regressor__n_estimators': 200, 'regressor__min_samples_split': 10, 'regressor__min_samples_leaf': 2, 'regressor__max_features': 'sqrt', 'regressor__max_depth': 10, 'regressor__bootstrap': True}\n",
      "Random Forest Metrics after Tuning:\n",
      "Mean Absolute Error (MAE): 5.999052050497785\n",
      "Mean Squared Error (MSE): 52.1162086143961\n",
      "Root Mean Squared Error (RMSE): 7.219155671849451\n",
      "R^2 Score: 0.694976813829331\n"
     ]
    },
    {
     "name": "stderr",
     "output_type": "stream",
     "text": [
      "C:\\Users\\Ashutosh\\AppData\\Local\\Packages\\PythonSoftwareFoundation.Python.3.12_qbz5n2kfra8p0\\LocalCache\\local-packages\\Python312\\site-packages\\sklearn\\metrics\\_regression.py:483: FutureWarning: 'squared' is deprecated in version 1.4 and will be removed in 1.6. To calculate the root mean squared error, use the function'root_mean_squared_error'.\n",
      "  warnings.warn(\n"
     ]
    }
   ],
   "source": [
    "from sklearn.model_selection import RandomizedSearchCV, train_test_split\n",
    "from sklearn.preprocessing import StandardScaler\n",
    "from sklearn.pipeline import Pipeline\n",
    "from sklearn.ensemble import RandomForestRegressor\n",
    "from sklearn.metrics import mean_absolute_error, mean_squared_error, r2_score\n",
    "\n",
    "# Assuming df is already defined and contains the data\n",
    "X = df_cleanedz.drop(['Immunity_Score'], axis=1)\n",
    "y = df_cleanedz['Immunity_Score']\n",
    "\n",
    "# Train-test split\n",
    "X_train, X_test, y_train, y_test = train_test_split(X, y, test_size=0.2, random_state=42)\n",
    "\n",
    "# Create a pipeline with StandardScaler and RandomForestRegressor\n",
    "pipeline = Pipeline([\n",
    "    ('scaler', StandardScaler()),\n",
    "    ('regressor', RandomForestRegressor(random_state=42))\n",
    "])\n",
    "\n",
    "# Define the parameter grid for RandomizedSearchCV\n",
    "param_distributions = {\n",
    "    'regressor__n_estimators': [100, 200],               # Reduced range for faster tuning\n",
    "    'regressor__max_features': ['sqrt', 'log2'],         # Removed 'auto' as it's not valid\n",
    "    'regressor__max_depth': [10, 20, 30],                # Reduced range\n",
    "    'regressor__min_samples_split': [5, 10],             # Reduced range\n",
    "    'regressor__min_samples_leaf': [2, 4],               # Reduced range\n",
    "    'regressor__bootstrap': [True]                       # Fixed bootstrap to True\n",
    "}\n",
    "\n",
    "# Initialize RandomizedSearchCV with reduced iterations and fewer CV folds\n",
    "random_search = RandomizedSearchCV(\n",
    "    pipeline,\n",
    "    param_distributions,\n",
    "    n_iter=30,            # Reduced number of iterations for faster execution\n",
    "    cv=3,                 # Reduced number of cross-validation folds\n",
    "    verbose=2,\n",
    "    random_state=42,\n",
    "    n_jobs=-1             # Utilize all available cores\n",
    ")\n",
    "\n",
    "# Fit the model\n",
    "random_search.fit(X_train, y_train)\n",
    "\n",
    "# Best parameters\n",
    "best_params = random_search.best_params_\n",
    "\n",
    "# Predict on test data\n",
    "y_pred_rf = random_search.best_estimator_.predict(X_test)\n",
    "\n",
    "# Evaluate the model\n",
    "mae_rf = mean_absolute_error(y_test, y_pred_rf)\n",
    "mse_rf = mean_squared_error(y_test, y_pred_rf)\n",
    "rmse_rf = mean_squared_error(y_test, y_pred_rf, squared=False)\n",
    "r2_rf = r2_score(y_test, y_pred_rf)\n",
    "\n",
    "# Print results\n",
    "print(\"Best Parameters:\", best_params)\n",
    "print(\"Random Forest Metrics after Tuning:\")\n",
    "print(\"Mean Absolute Error (MAE):\", mae_rf)\n",
    "print(\"Mean Squared Error (MSE):\", mse_rf)\n",
    "print(\"Root Mean Squared Error (RMSE):\", rmse_rf)\n",
    "print(\"R^2 Score:\", r2_rf)\n"
   ]
  },
  {
   "cell_type": "markdown",
   "id": "354a16ca",
   "metadata": {},
   "source": [
    "# Gradient Boosting Regressor"
   ]
  },
  {
   "cell_type": "code",
   "execution_count": 15,
   "id": "401884cf",
   "metadata": {},
   "outputs": [
    {
     "name": "stdout",
     "output_type": "stream",
     "text": [
      "Fitting 3 folds for each of 64 candidates, totalling 192 fits\n"
     ]
    },
    {
     "name": "stdout",
     "output_type": "stream",
     "text": [
      "Best Parameters: {'regressor__learning_rate': 0.05, 'regressor__max_depth': 3, 'regressor__min_samples_leaf': 2, 'regressor__min_samples_split': 5, 'regressor__n_estimators': 100, 'regressor__subsample': 0.9}\n",
      "Gradient Boosting Regressor Metrics after Tuning:\n",
      "Mean Absolute Error (MAE): 5.97901533014999\n",
      "Mean Squared Error (MSE): 51.7871932856046\n",
      "Root Mean Squared Error (RMSE): 7.196331932700478\n",
      "R^2 Score: 0.6969024585865985\n"
     ]
    },
    {
     "name": "stderr",
     "output_type": "stream",
     "text": [
      "C:\\Users\\Ashutosh\\AppData\\Local\\Packages\\PythonSoftwareFoundation.Python.3.12_qbz5n2kfra8p0\\LocalCache\\local-packages\\Python312\\site-packages\\sklearn\\metrics\\_regression.py:483: FutureWarning: 'squared' is deprecated in version 1.4 and will be removed in 1.6. To calculate the root mean squared error, use the function'root_mean_squared_error'.\n",
      "  warnings.warn(\n"
     ]
    }
   ],
   "source": [
    "from sklearn.model_selection import GridSearchCV, train_test_split\n",
    "from sklearn.preprocessing import StandardScaler\n",
    "from sklearn.pipeline import Pipeline\n",
    "from sklearn.ensemble import GradientBoostingRegressor\n",
    "from sklearn.metrics import mean_absolute_error, mean_squared_error, r2_score\n",
    "\n",
    "# Assuming df is already defined and contains the data\n",
    "X = df_cleanedz.drop(['Immunity_Score'], axis=1)\n",
    "y = df_cleanedz['Immunity_Score']\n",
    "\n",
    "# Train-test split\n",
    "X_train, X_test, y_train, y_test = train_test_split(X, y, test_size=0.2, random_state=42)\n",
    "\n",
    "# Create a pipeline with StandardScaler and GradientBoostingRegressor\n",
    "pipeline = Pipeline([\n",
    "    ('scaler', StandardScaler()),\n",
    "    ('regressor', GradientBoostingRegressor(random_state=42))\n",
    "])\n",
    "\n",
    "# Define a smaller parameter grid for GridSearchCV to speed up execution\n",
    "param_grid = {\n",
    "    'regressor__n_estimators': [100, 200],                # Reduced number of estimators\n",
    "    'regressor__learning_rate': [0.05, 0.1],              # Reduced range of learning rates\n",
    "    'regressor__max_depth': [3, 4],                       # Reduced range for max depth\n",
    "    'regressor__min_samples_split': [5, 10],              # Reduced range for min samples split\n",
    "    'regressor__min_samples_leaf': [2, 4],                # Reduced range for min samples leaf\n",
    "    'regressor__subsample': [0.9, 1.0]                    # Removed 0.8 to reduce combinations\n",
    "}\n",
    "\n",
    "# Initialize GridSearchCV with fewer parameters and reduced CV folds\n",
    "grid_search = GridSearchCV(\n",
    "    pipeline, \n",
    "    param_grid, \n",
    "    cv=3,                    # Reduced number of cross-validation folds\n",
    "    scoring='neg_mean_squared_error', \n",
    "    verbose=2, \n",
    "    n_jobs=-1                # Utilize all available cores\n",
    ")\n",
    "\n",
    "# Fit the model\n",
    "grid_search.fit(X_train, y_train)\n",
    "\n",
    "# Best parameters\n",
    "best_params = grid_search.best_params_\n",
    "\n",
    "# Predict on test data\n",
    "y_pred = grid_search.best_estimator_.predict(X_test)\n",
    "\n",
    "# Evaluate the model\n",
    "mae = mean_absolute_error(y_test, y_pred)\n",
    "mse = mean_squared_error(y_test, y_pred)\n",
    "rmse = mean_squared_error(y_test, y_pred, squared=False)\n",
    "r2 = r2_score(y_test, y_pred)\n",
    "\n",
    "# Print results\n",
    "print(\"Best Parameters:\", best_params)\n",
    "print(\"Gradient Boosting Regressor Metrics after Tuning:\")\n",
    "print(\"Mean Absolute Error (MAE):\", mae)\n",
    "print(\"Mean Squared Error (MSE):\", mse)\n",
    "print(\"Root Mean Squared Error (RMSE):\", rmse)\n",
    "print(\"R^2 Score:\", r2)\n"
   ]
  },
  {
   "cell_type": "markdown",
   "id": "08726d56",
   "metadata": {},
   "source": [
    "# XGBoost"
   ]
  },
  {
   "cell_type": "code",
   "execution_count": 16,
   "id": "7b6c26eb",
   "metadata": {},
   "outputs": [
    {
     "name": "stdout",
     "output_type": "stream",
     "text": [
      "Fitting 3 folds for each of 64 candidates, totalling 192 fits\n",
      "Best Parameters: {'regressor__colsample_bytree': 1.0, 'regressor__learning_rate': 0.05, 'regressor__max_depth': 3, 'regressor__min_child_weight': 1, 'regressor__n_estimators': 100, 'regressor__subsample': 1.0}\n",
      "XGBoost Regressor Metrics after Tuning:\n",
      "Mean Absolute Error (MAE): 5.995001113534372\n",
      "Mean Squared Error (MSE): 51.86095175239729\n",
      "Root Mean Squared Error (RMSE): 7.2014548358229185\n",
      "R^2 Score: 0.6964707686546883\n",
      "Model saved to xgb_model.pkl\n"
     ]
    },
    {
     "name": "stderr",
     "output_type": "stream",
     "text": [
      "C:\\Users\\Ashutosh\\AppData\\Local\\Packages\\PythonSoftwareFoundation.Python.3.12_qbz5n2kfra8p0\\LocalCache\\local-packages\\Python312\\site-packages\\sklearn\\metrics\\_regression.py:483: FutureWarning: 'squared' is deprecated in version 1.4 and will be removed in 1.6. To calculate the root mean squared error, use the function'root_mean_squared_error'.\n",
      "  warnings.warn(\n"
     ]
    }
   ],
   "source": [
    "from xgboost import XGBRegressor\n",
    "from sklearn.model_selection import GridSearchCV, train_test_split\n",
    "from sklearn.preprocessing import StandardScaler\n",
    "from sklearn.pipeline import Pipeline\n",
    "from sklearn.metrics import mean_absolute_error, mean_squared_error, r2_score\n",
    "import joblib\n",
    "\n",
    "# Assuming df_cleanedz is already defined and contains the data\n",
    "X = df_cleanedz.drop(['Immunity_Score'], axis=1)\n",
    "y = df_cleanedz['Immunity_Score']\n",
    "\n",
    "# Train-test split\n",
    "X_train, X_test, y_train, y_test = train_test_split(X, y, test_size=0.2, random_state=42)\n",
    "\n",
    "# Create a pipeline with StandardScaler and XGBRegressor\n",
    "pipeline = Pipeline([\n",
    "    ('scaler', StandardScaler()),\n",
    "    ('regressor', XGBRegressor(random_state=42))\n",
    "])\n",
    "\n",
    "# Define a parameter grid for GridSearchCV\n",
    "param_grid = {\n",
    "    'regressor__n_estimators': [100, 200],\n",
    "    'regressor__learning_rate': [0.05, 0.1],\n",
    "    'regressor__max_depth': [3, 4],\n",
    "    'regressor__min_child_weight': [1, 2],\n",
    "    'regressor__subsample': [0.9, 1.0],\n",
    "    'regressor__colsample_bytree': [0.8, 1.0]\n",
    "}\n",
    "\n",
    "# Initialize GridSearchCV with XGBRegressor\n",
    "grid_search = GridSearchCV(\n",
    "    pipeline, \n",
    "    param_grid, \n",
    "    cv=3, \n",
    "    scoring='neg_mean_squared_error', \n",
    "    verbose=2, \n",
    "    n_jobs=-1\n",
    ")\n",
    "\n",
    "# Fit the model\n",
    "grid_search.fit(X_train, y_train)\n",
    "\n",
    "# Best parameters\n",
    "best_params = grid_search.best_params_\n",
    "\n",
    "# Predict on test data\n",
    "y_pred = grid_search.best_estimator_.predict(X_test)\n",
    "\n",
    "# Evaluate the model\n",
    "mae = mean_absolute_error(y_test, y_pred)\n",
    "mse = mean_squared_error(y_test, y_pred)\n",
    "rmse = mean_squared_error(y_test, y_pred, squared=False)\n",
    "r2 = r2_score(y_test, y_pred)\n",
    "\n",
    "# Print results\n",
    "print(\"Best Parameters:\", best_params)\n",
    "print(\"XGBoost Regressor Metrics after Tuning:\")\n",
    "print(\"Mean Absolute Error (MAE):\", mae)\n",
    "print(\"Mean Squared Error (MSE):\", mse)\n",
    "print(\"Root Mean Squared Error (RMSE):\", rmse)\n",
    "print(\"R^2 Score:\", r2)\n",
    "\n",
    "# Save the model as a .pkl file\n",
    "model_filename = 'xgb_model.pkl'\n",
    "joblib.dump(grid_search.best_estimator_, model_filename)\n",
    "print(f\"Model saved to {model_filename}\")\n"
   ]
  },
  {
   "cell_type": "code",
   "execution_count": 17,
   "id": "d37e66e8",
   "metadata": {},
   "outputs": [
    {
     "name": "stdout",
     "output_type": "stream",
     "text": [
      "Loaded Model Metrics:\n",
      "Mean Absolute Error (MAE): 5.995001113534372\n",
      "Mean Squared Error (MSE): 51.86095175239729\n",
      "Root Mean Squared Error (RMSE): 7.2014548358229185\n",
      "R^2 Score: 0.6964707686546883\n"
     ]
    },
    {
     "name": "stderr",
     "output_type": "stream",
     "text": [
      "C:\\Users\\Ashutosh\\AppData\\Local\\Packages\\PythonSoftwareFoundation.Python.3.12_qbz5n2kfra8p0\\LocalCache\\local-packages\\Python312\\site-packages\\sklearn\\metrics\\_regression.py:483: FutureWarning: 'squared' is deprecated in version 1.4 and will be removed in 1.6. To calculate the root mean squared error, use the function'root_mean_squared_error'.\n",
      "  warnings.warn(\n"
     ]
    }
   ],
   "source": [
    "\n",
    "import joblib\n",
    "\n",
    "# Load the model and name it \"model\"\n",
    "model = joblib.load('xgb_model.pkl')\n",
    "\n",
    "# Use the loaded model for prediction\n",
    "loaded_y_pred = model.predict(X_test)\n",
    "\n",
    "# Evaluate the loaded model (optional)\n",
    "loaded_mae = mean_absolute_error(y_test, loaded_y_pred)\n",
    "loaded_mse = mean_squared_error(y_test, loaded_y_pred)\n",
    "loaded_rmse = mean_squared_error(y_test, loaded_y_pred, squared=False)\n",
    "loaded_r2 = r2_score(y_test, loaded_y_pred)\n",
    "\n",
    "print(\"Loaded Model Metrics:\")\n",
    "print(\"Mean Absolute Error (MAE):\", loaded_mae)\n",
    "print(\"Mean Squared Error (MSE):\", loaded_mse)\n",
    "print(\"Root Mean Squared Error (RMSE):\", loaded_rmse)\n",
    "print(\"R^2 Score:\", loaded_r2)\n"
   ]
  },
  {
   "cell_type": "code",
   "execution_count": 18,
   "id": "e8d5faff",
   "metadata": {},
   "outputs": [
    {
     "data": {
      "image/png": "[encoded data removed]",
      "text/plain": [
       "<Figure size 1000x500 with 1 Axes>"
      ]
     },
     "metadata": {},
     "output_type": "display_data"
    }
   ],
   "source": [
    "import matplotlib.pyplot as plt\n",
    "from sklearn.ensemble import RandomForestClassifier\n",
    "\n",
    "\n",
    "# Define the features and target\n",
    "target_column = 'Immunity_Score'\n",
    "X = df_cleanedz.drop(columns=[target_column])\n",
    "y = df_cleanedz[target_column]\n",
    "\n",
    "# Train a model (example: RandomForestClassifier)\n",
    "model = RandomForestClassifier()\n",
    "model.fit(X, y)\n",
    "\n",
    "# Get feature importances\n",
    "feature_importances = model.feature_importances_\n",
    "\n",
    "# Sort feature importances in descending order\n",
    "indices = np.argsort(feature_importances)[::-1]\n",
    "\n",
    "# Rearrange feature names so they match the sorted feature importances\n",
    "names = [X.columns[i] for i in indices]\n",
    "\n",
    "# Create plot\n",
    "plt.figure(figsize=(10, 5))\n",
    "plt.title(\"Feature Importance\")\n",
    "plt.bar(range(X.shape[1]), feature_importances[indices])\n",
    "plt.xticks(range(X.shape[1]), names, rotation=90)\n",
    "plt.show()\n"
   ]
  },
  {
   "cell_type": "code",
   "execution_count": null,
   "metadata": {},
   "outputs": [],
   "source": []
  },
  {
   "cell_type": "code",
   "execution_count": 19,
   "id": "c87bda4e",
   "metadata": {},
   "outputs": [
    {
     "data": {
      "image/png": "[encoded data removed]",
      "text/plain": [
       "<Figure size 1200x600 with 1 Axes>"
      ]
     },
     "metadata": {},
     "output_type": "display_data"
    }
   ],
   "source": [
    "import matplotlib.pyplot as plt\n",
    "\n",
    "model_scores = {\n",
    "    \"Decision Tree\": {\n",
    "       \"MAE\": 5.899786057785743,\n",
    "        \"MSE\": 48.3409673304896,\n",
    "        \"RMSE\": 6.952766883082561,\n",
    "        \"R^2\": 0.5523082666512351\n",
    "    },\n",
    "    \"Random Forest\": {\n",
    "        \"MAE\": 5.500078455471061,\n",
    "        \"MSE\": 40.674397093307704,\n",
    "        \"RMSE\": 6.377648241578372,\n",
    "        \"R^2\": 0.6233093307147425\n",
    "    },\n",
    "    \"GBRegressor\": {\n",
    "        \"MAE\": 5.488804799788191,\n",
    "        \"MSE\": 39.97250682001857,\n",
    "        \"RMSE\": 6.322381420004536,\n",
    "        \"R^2\": 0.6298096241598689\n",
    "    },\n",
    "    \"XGBoost\": {\n",
    "        \"MAE\": 5.472004358392013,\n",
    "        \"MSE\": 39.8345227037308,\n",
    "        \"RMSE\": 6.31145963337569,\n",
    "        \"R^2\": 0.6310875122867892\n",
    "    },\n",
    "}\n",
    "\n",
    "model_names = list(model_scores.keys())\n",
    "metrics = list(model_scores[model_names[0]].keys())\n",
    "scores = [[model_scores[model][metric] for metric in metrics] for model in model_names]\n",
    "\n",
    "bar_width = 0.2\n",
    "x = np.arange(len(model_names))\n",
    "plt.figure(figsize=(12, 6))\n",
    "\n",
    "for i, metric in enumerate(metrics):\n",
    "    bars = plt.bar(x + i * bar_width, [score[i] for score in scores], bar_width, label=metric)\n",
    "    for bar in bars:\n",
    "        plt.text(bar.get_x() + bar.get_width() / 2, bar.get_height(), round(bar.get_height(), 2), \n",
    "                 ha='center', va='bottom')\n",
    "\n",
    "plt.xlabel('Model')\n",
    "plt.ylabel('Scores')\n",
    "plt.title('Comparison of Regression Models')\n",
    "plt.xticks(x + bar_width * (len(metrics) - 1) / 2, model_names)\n",
    "plt.legend()\n",
    "\n",
    "plt.tight_layout()\n",
    "plt.show()\n"
   ]
  },
  {
   "cell_type": "code",
   "execution_count": 20,
   "id": "82023752",
   "metadata": {},
   "outputs": [
    {
     "name": "stderr",
     "output_type": "stream",
     "text": [
      "C:\\Users\\Ashutosh\\AppData\\Local\\Packages\\PythonSoftwareFoundation.Python.3.12_qbz5n2kfra8p0\\LocalCache\\local-packages\\Python312\\site-packages\\sklearn\\metrics\\_regression.py:483: FutureWarning: 'squared' is deprecated in version 1.4 and will be removed in 1.6. To calculate the root mean squared error, use the function'root_mean_squared_error'.\n",
      "  warnings.warn(\n",
      "C:\\Users\\Ashutosh\\AppData\\Local\\Packages\\PythonSoftwareFoundation.Python.3.12_qbz5n2kfra8p0\\LocalCache\\local-packages\\Python312\\site-packages\\sklearn\\metrics\\_regression.py:483: FutureWarning: 'squared' is deprecated in version 1.4 and will be removed in 1.6. To calculate the root mean squared error, use the function'root_mean_squared_error'.\n",
      "  warnings.warn(\n",
      "C:\\Users\\Ashutosh\\AppData\\Local\\Packages\\PythonSoftwareFoundation.Python.3.12_qbz5n2kfra8p0\\LocalCache\\local-packages\\Python312\\site-packages\\sklearn\\metrics\\_regression.py:483: FutureWarning: 'squared' is deprecated in version 1.4 and will be removed in 1.6. To calculate the root mean squared error, use the function'root_mean_squared_error'.\n",
      "  warnings.warn(\n",
      "C:\\Users\\Ashutosh\\AppData\\Local\\Packages\\PythonSoftwareFoundation.Python.3.12_qbz5n2kfra8p0\\LocalCache\\local-packages\\Python312\\site-packages\\sklearn\\metrics\\_regression.py:483: FutureWarning: 'squared' is deprecated in version 1.4 and will be removed in 1.6. To calculate the root mean squared error, use the function'root_mean_squared_error'.\n",
      "  warnings.warn(\n"
     ]
    },
    {
     "name": "stdout",
     "output_type": "stream",
     "text": [
      "Linear Regression - MAE: 9.021479822756532, MSE: 144.19836252044053, RMSE: 12.008262260645399, R^2: 0.1560429059218198\n",
      "Ridge Regression - MAE: 9.021485104730573, MSE: 144.19797404465328, RMSE: 12.008246085280451, R^2: 0.15604517957382802\n",
      "Lasso Regression - MAE: 9.028761990254601, MSE: 144.36539998328217, RMSE: 12.015215353179574, R^2: 0.15506527726308905\n",
      "ElasticNet Regression - MAE: 9.02871180457662, MSE: 144.31931929905437, RMSE: 12.013297603033664, R^2: 0.1553349760285554\n"
     ]
    },
    {
     "name": "stderr",
     "output_type": "stream",
     "text": [
      "C:\\Users\\Ashutosh\\AppData\\Local\\Packages\\PythonSoftwareFoundation.Python.3.12_qbz5n2kfra8p0\\LocalCache\\local-packages\\Python312\\site-packages\\sklearn\\metrics\\_regression.py:483: FutureWarning: 'squared' is deprecated in version 1.4 and will be removed in 1.6. To calculate the root mean squared error, use the function'root_mean_squared_error'.\n",
      "  warnings.warn(\n"
     ]
    },
    {
     "name": "stdout",
     "output_type": "stream",
     "text": [
      "Support Vector Regressor - MAE: 8.881815883938746, MSE: 155.86582409808506, RMSE: 12.48462350646126, R^2: 0.08775615982966578\n",
      "[LightGBM] [Info] Auto-choosing row-wise multi-threading, the overhead of testing was 0.000187 seconds.\n",
      "You can set `force_row_wise=true` to remove the overhead.\n",
      "And if memory is not enough, you can set `force_col_wise=true`.\n",
      "[LightGBM] [Info] Total Bins 897\n",
      "[LightGBM] [Info] Number of data points in the train set: 3588, number of used features: 5\n",
      "[LightGBM] [Info] Start training from score 35.010312\n",
      "LightGBM Regressor - MAE: 6.148608766167581, MSE: 55.53458969509469, RMSE: 7.452153359606516, R^2: 0.6749698809287632\n"
     ]
    },
    {
     "name": "stderr",
     "output_type": "stream",
     "text": [
      "C:\\Users\\Ashutosh\\AppData\\Local\\Packages\\PythonSoftwareFoundation.Python.3.12_qbz5n2kfra8p0\\LocalCache\\local-packages\\Python312\\site-packages\\sklearn\\metrics\\_regression.py:483: FutureWarning: 'squared' is deprecated in version 1.4 and will be removed in 1.6. To calculate the root mean squared error, use the function'root_mean_squared_error'.\n",
      "  warnings.warn(\n"
     ]
    },
    {
     "name": "stdout",
     "output_type": "stream",
     "text": [
      "CatBoost Regressor - MAE: 6.217738677412945, MSE: 56.10422126596069, RMSE: 7.490275112835355, R^2: 0.6716359692473797\n",
      "                               MAE         MSE       RMSE       R^2\n",
      "Linear Regression         9.021480  144.198363  12.008262  0.156043\n",
      "Ridge Regression          9.021485  144.197974  12.008246  0.156045\n",
      "Lasso Regression          9.028762  144.365400  12.015215  0.155065\n",
      "ElasticNet Regression     9.028712  144.319319  12.013298  0.155335\n",
      "Support Vector Regressor  8.881816  155.865824  12.484624  0.087756\n",
      "LightGBM Regressor        6.148609   55.534590   7.452153  0.674970\n",
      "CatBoost Regressor        6.217739   56.104221   7.490275  0.671636\n"
     ]
    },
    {
     "name": "stderr",
     "output_type": "stream",
     "text": [
      "C:\\Users\\Ashutosh\\AppData\\Local\\Packages\\PythonSoftwareFoundation.Python.3.12_qbz5n2kfra8p0\\LocalCache\\local-packages\\Python312\\site-packages\\sklearn\\metrics\\_regression.py:483: FutureWarning: 'squared' is deprecated in version 1.4 and will be removed in 1.6. To calculate the root mean squared error, use the function'root_mean_squared_error'.\n",
      "  warnings.warn(\n"
     ]
    }
   ],
   "source": [
    "from sklearn.linear_model import LinearRegression, Ridge, Lasso, ElasticNet\n",
    "from sklearn.svm import SVR\n",
    "from lightgbm import LGBMRegressor\n",
    "from catboost import CatBoostRegressor\n",
    "\n",
    "\n",
    "X = df_cleanedz.drop(['Immunity_Score'], axis=1)\n",
    "y = df_cleanedz['Immunity_Score']\n",
    "\n",
    "# Train-test split\n",
    "X_train, X_test, y_train, y_test = train_test_split(X, y, test_size=0.2, random_state=42)\n",
    "\n",
    "# List of models to evaluate\n",
    "models = {\n",
    "    'Linear Regression': LinearRegression(),\n",
    "    'Ridge Regression': Ridge(),\n",
    "    'Lasso Regression': Lasso(),\n",
    "    'ElasticNet Regression': ElasticNet(),\n",
    "    'Support Vector Regressor': SVR(),\n",
    "    'LightGBM Regressor': LGBMRegressor(random_state=42),\n",
    "    'CatBoost Regressor': CatBoostRegressor(random_state=42, verbose=0)\n",
    "}\n",
    "\n",
    "# Function to evaluate models\n",
    "def evaluate_models(models, X_train, y_train, X_test, y_test):\n",
    "    results = {}\n",
    "    for name, model in models.items():\n",
    "        model.fit(X_train, y_train)\n",
    "        y_pred = model.predict(X_test)\n",
    "        mae = mean_absolute_error(y_test, y_pred)\n",
    "        mse = mean_squared_error(y_test, y_pred)\n",
    "        rmse = mean_squared_error(y_test, y_pred, squared=False)\n",
    "        r2 = r2_score(y_test, y_pred)\n",
    "        results[name] = {\n",
    "            'MAE': mae,\n",
    "            'MSE': mse,\n",
    "            'RMSE': rmse,\n",
    "            'R^2': r2\n",
    "        }\n",
    "        print(f\"{name} - MAE: {mae}, MSE: {mse}, RMSE: {rmse}, R^2: {r2}\")\n",
    "    return results\n",
    "\n",
    "# Evaluate all models\n",
    "results = evaluate_models(models, X_train, y_train, X_test, y_test)\n",
    "\n",
    "# Display results in a DataFrame\n",
    "results_df = pd.DataFrame(results).T\n",
    "print(results_df)\n"
   ]
  },
  {
   "cell_type": "code",
   "execution_count": 21,
   "id": "3e830570",
   "metadata": {},
   "outputs": [
    {
     "name": "stdout",
     "output_type": "stream",
     "text": [
      "Maximum Immunity Score: 100\n"
     ]
    }
   ],
   "source": [
    "max_immunity_score = df['Immunity_Score'].max()\n",
    "print(\"Maximum Immunity Score:\", max_immunity_score)\n"
   ]
  },
  {
   "cell_type": "code",
   "execution_count": 22,
   "id": "66a10af4",
   "metadata": {},
   "outputs": [
    {
     "name": "stdout",
     "output_type": "stream",
     "text": [
      "Minimum Immunity Score: 20\n"
     ]
    }
   ],
   "source": [
    "min_immunity_score = df['Immunity_Score'].min()\n",
    "print(\"Minimum Immunity Score:\", min_immunity_score)\n"
   ]
  },
  {
   "cell_type": "code",
   "execution_count": 23,
   "id": "988c54fd",
   "metadata": {},
   "outputs": [
    {
     "name": "stdout",
     "output_type": "stream",
     "text": [
      "Mean Immunity Score: 40.4412\n",
      "Median Immunity Score: 34.0\n",
      "Mode Immunity Score: 0    20\n",
      "1    30\n",
      "Name: Immunity_Score, dtype: int64\n"
     ]
    }
   ],
   "source": [
    "import pandas as pd\n",
    "\n",
    "# Calculate mean\n",
    "mean_immunity_score = df['Immunity_Score'].mean()\n",
    "\n",
    "# Calculate median\n",
    "median_immunity_score = df['Immunity_Score'].median()\n",
    "\n",
    "# Calculate mode (if exists)\n",
    "mode_immunity_score = df['Immunity_Score'].mode()\n",
    "\n",
    "print(\"Mean Immunity Score:\", mean_immunity_score)\n",
    "print(\"Median Immunity Score:\", median_immunity_score)\n",
    "print(\"Mode Immunity Score:\", mode_immunity_score)\n"
   ]
  }
 ],
 "metadata": {
  "kernelspec": {
   "display_name": "Python 3 (ipykernel)",
   "language": "python",
   "name": "python3"
  },
  "language_info": {
   "codemirror_mode": {
    "name": "ipython",
    "version": 3
   },
   "file_extension": ".py",
   "mimetype": "text/x-python",
   "name": "python",
   "nbconvert_exporter": "python",
   "pygments_lexer": "ipython3",
   "version": "3.12.4"
  }
 },
 "nbformat": 4,
 "nbformat_minor": 5
}
